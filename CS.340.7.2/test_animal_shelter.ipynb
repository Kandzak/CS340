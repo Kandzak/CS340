{
 "cells": [
  {
   "cell_type": "code",
   "execution_count": null,
   "metadata": {},
   "outputs": [],
   "source": [
    "%pip install pymongo\n",
    "\n",
    "\n",
    "from animal_shelter import AnimalShelter\n",
    "\n",
    "db = AnimalShelter()\n",
    "\n",
    "# Test create\n",
    "data = {\n",
    "    \"name\": \"Max\",\n",
    "    \"age\": 2,\n",
    "    \"type\": \"Dog\"\n",
    "}\n",
    "print(db.create(data))  # Should return True if successful\n",
    "\n",
    "# Test read\n",
    "query = {\"name\": \"Max\"}\n",
    "print(db.read(query))  # Should return data for Max\n",
    "\n",
    "# Test update\n",
    "new_data = {\"age\": 3}\n",
    "print(db.update(query, new_data))  # Should return the number of documents updated\n",
    "\n",
    "# Test delete\n",
    "print(db.delete(query))  # Should return the number of documents deleted"
   ]
  }
 ],
 "metadata": {
  "language_info": {
   "name": "python"
  }
 },
 "nbformat": 4,
 "nbformat_minor": 2
}
